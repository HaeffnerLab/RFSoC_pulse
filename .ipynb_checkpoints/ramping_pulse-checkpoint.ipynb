{
 "cells": [
  {
   "cell_type": "code",
   "execution_count": 1,
   "id": "c9841b61-4278-41cb-8f3d-11a0b020a7c9",
   "metadata": {},
   "outputs": [
    {
     "name": "stdout",
     "output_type": "stream",
     "text": [
      "%pylab is deprecated, use %matplotlib inline and import the required libraries.\n",
      "Populating the interactive namespace from numpy and matplotlib\n"
     ]
    }
   ],
   "source": [
    "# Import the QICK drivers and auxiliary libraries\n",
    "from qick import *\n",
    "%pylab inline"
   ]
  },
  {
   "cell_type": "code",
   "execution_count": 2,
   "id": "2c05c62c-f222-4866-8b3a-f46f53c6622a",
   "metadata": {},
   "outputs": [
    {
     "data": {
      "application/javascript": [
       "\n",
       "try {\n",
       "require(['notebook/js/codecell'], function(codecell) {\n",
       "  codecell.CodeCell.options_default.highlight_modes[\n",
       "      'magic_text/x-csrc'] = {'reg':[/^%%microblaze/]};\n",
       "  Jupyter.notebook.events.one('kernel_ready.Kernel', function(){\n",
       "      Jupyter.notebook.get_cells().map(function(cell){\n",
       "          if (cell.cell_type == 'code'){ cell.auto_highlight(); } }) ;\n",
       "  });\n",
       "});\n",
       "} catch (e) {};\n"
      ]
     },
     "metadata": {},
     "output_type": "display_data"
    },
    {
     "data": {
      "application/javascript": [
       "\n",
       "try {\n",
       "require(['notebook/js/codecell'], function(codecell) {\n",
       "  codecell.CodeCell.options_default.highlight_modes[\n",
       "      'magic_text/x-csrc'] = {'reg':[/^%%pybind11/]};\n",
       "  Jupyter.notebook.events.one('kernel_ready.Kernel', function(){\n",
       "      Jupyter.notebook.get_cells().map(function(cell){\n",
       "          if (cell.cell_type == 'code'){ cell.auto_highlight(); } }) ;\n",
       "  });\n",
       "});\n",
       "} catch (e) {};\n"
      ]
     },
     "metadata": {},
     "output_type": "display_data"
    },
    {
     "name": "stdout",
     "output_type": "stream",
     "text": [
      "QICK running on RFSoC4x2, software version 0.2.340\n",
      "\n",
      "Firmware configuration (built Wed Sep  6 18:49:29 2023):\n",
      "\n",
      "\tGlobal clocks (MHz): tProc dispatcher timing 409.600, RF reference 491.520\n",
      "\tGroups of related clocks: [tProc clock, DAC tile 0], [DAC tile 2], [ADC tile 0]\n",
      "\n",
      "\t2 signal generator channels:\n",
      "\t0:\taxis_signal_gen_v6 - envelope memory 65536 samples (6.667 us)\n",
      "\t\tfs=9830.400 Msps, fabric=614.400 MHz, 32-bit DDS, range=9830.400 MHz\n",
      "\t\tDAC tile 0, blk 0 is DAC_B\n",
      "\t1:\taxis_signal_gen_v6 - envelope memory 65536 samples (6.667 us)\n",
      "\t\tfs=9830.400 Msps, fabric=614.400 MHz, 32-bit DDS, range=9830.400 MHz\n",
      "\t\tDAC tile 2, blk 0 is DAC_A\n",
      "\n",
      "\t2 readout channels:\n",
      "\t0:\taxis_readout_v2 - configured by PYNQ\n",
      "\t\tfs=4423.680 Msps, decimated=552.960 MHz, 32-bit DDS, range=4423.680 MHz\n",
      "\t\taxis_avg_buffer v1.0 (no edge counter, no weights)\n",
      "\t\tmemory 16384 accumulated, 1024 decimated (1.852 us)\n",
      "\t\ttriggered by output 7, pin 14, feedback to tProc input 0\n",
      "\t\tADC tile 0, blk 0 is ADC_D\n",
      "\t1:\taxis_readout_v2 - configured by PYNQ\n",
      "\t\tfs=4423.680 Msps, decimated=552.960 MHz, 32-bit DDS, range=4423.680 MHz\n",
      "\t\taxis_avg_buffer v1.0 (no edge counter, no weights)\n",
      "\t\tmemory 16384 accumulated, 1024 decimated (1.852 us)\n",
      "\t\ttriggered by output 7, pin 15, feedback to tProc input 1\n",
      "\t\tADC tile 0, blk 2 is ADC_C\n",
      "\n",
      "\t8 digital output pins:\n",
      "\t0:\tPMOD0_0\n",
      "\t1:\tPMOD0_1\n",
      "\t2:\tPMOD0_2\n",
      "\t3:\tPMOD0_3\n",
      "\t4:\tPMOD0_4\n",
      "\t5:\tPMOD0_5\n",
      "\t6:\tPMOD0_6\n",
      "\t7:\tPMOD0_7\n",
      "\n",
      "\ttProc: axis_tproc64x32_x8 (\"v1\") rev 4, program memory 1024 words, data memory 1024 words\n",
      "\t\texternal start pin: PMOD1_0\n",
      "\n",
      "\tDDR4 memory buffer: 1073741824 samples (1.942 sec), 256 samples/transfer\n",
      "\t\twired to readouts [0, 1]\n",
      "\n",
      "\tMR buffer: 8192 samples (1.852 us), wired to readouts [0, 1]\n"
     ]
    }
   ],
   "source": [
    "# Load bitstream with custom overlay\n",
    "soc = QickSoc()\n",
    "soccfg = soc\n",
    "print(soccfg)"
   ]
  },
  {
   "cell_type": "code",
   "execution_count": 62,
   "id": "0cf45596-a2f2-4308-8a6e-e197c328070b",
   "metadata": {},
   "outputs": [],
   "source": [
    "class LoopbackProgram(AveragerProgram):\n",
    "    def initialize(self):\n",
    "        max_env_value=32766\n",
    "        cfg=self.cfg   \n",
    "\n",
    "        # set the nyquist zone\n",
    "        self.declare_gen(ch=cfg[\"res_ch\"], nqz=1)\n",
    "\n",
    "        \n",
    "        \n",
    "        #configure the readout lengths and downconversion frequencies\n",
    "        self.declare_readout(ch=cfg[\"ro_ch\"], length=self.cfg[\"readout_length\"],\n",
    "                             freq=self.cfg[\"pulse_freq\"],phase=0, gen_ch=cfg[\"res_ch\"])\n",
    "\n",
    "        freq=self.freq2reg(cfg[\"pulse_freq\"], gen_ch=cfg[\"res_ch\"], ro_ch=cfg[\"ro_ch\"])  # convert frequency to dac frequency (ensuring it is an available adc frequency)\n",
    "        \n",
    "        rampup_length=self.us2cycles(cfg[\"rampup_time\"],gen_ch=cfg[\"res_ch\"])*16 # convert rampup time to the generator's fabric clock length, *16 is because one clock has 16 data loaded \n",
    "        rampup_data=np.linspace(0,max_env_value,rampup_length)\n",
    "        \n",
    "        # Set waveform\n",
    "        self.add_envelope(ch=cfg[\"res_ch\"], name = \"ramping_up\", idata=rampup_data)\n",
    "        # self.add_gauss(ch=cfg[\"res_ch\"], name=\"qubit\", sigma=cfg[\"sigma\"], length=cfg[\"sigma\"]*4)\n",
    "        \n",
    "        self.add_envelope(ch=cfg[\"res_ch\"], name = \"const\", idata=max_env_value*np.ones(16*3))\n",
    "        self.add_envelope(ch=cfg[\"res_ch\"], name = \"zeros\", idata=np.zeros(16*3))\n",
    "        \n",
    "        self.default_pulse_registers(ch=cfg[\"res_ch\"], style=\"arb\", freq=freq, phase=cfg[\"res_phase\"], gain=cfg[\"pulse_gain\"])\n",
    "        self.set_pulse_registers(ch=cfg[\"res_ch\"],waveform=\"ramping_up\")\n",
    "\n",
    "        self.synci(200)  # give processor some time to configure pulses\n",
    "        pass\n",
    "    \n",
    "    def body(self):\n",
    "        self.trigger(adcs=[self.cfg[\"ro_ch\"]],adc_trig_offset=self.cfg[\"adc_trig_offset\"])  # trigger the adc acquisition\n",
    "        self.pulse(ch=self.cfg[\"res_ch\"]) # play ramping up pulse\n",
    "        \n",
    "        self.set_pulse_registers(ch=self.cfg[\"res_ch\"],waveform=\"const\",mode=\"periodic\") # play constant pulse\n",
    "        self.pulse(ch=self.cfg[\"res_ch\"]) \n",
    "        self.set_pulse_registers(ch=self.cfg[\"res_ch\"],waveform=\"zeros\",mode=\"oneshot\") # play stop pulse\n",
    "#         self.pulse(ch=self.cfg[\"res_ch\"],t=self.us2cycles(self.cfg[\"const_time\"]+self.cfg[\"rampup_time\"]))\n",
    "\n",
    "        self.wait_all() \n",
    "\n",
    "        self.sync_all(self.us2cycles(self.cfg[\"relax_delay\"]))  # sync all channels"
   ]
  },
  {
   "cell_type": "code",
   "execution_count": 66,
   "id": "c4f40d7b-51a2-402f-b6c3-71740b2ac6fd",
   "metadata": {},
   "outputs": [
    {
     "name": "stdout",
     "output_type": "stream",
     "text": [
      "\n",
      "// Program\n",
      "\n",
      "        regwi 1, $22, 163403091;                //freq = 163403091\n",
      "        regwi 1, $23, 0;                        //phase = 0\n",
      "        regwi 1, $25, 40000;                    //gain = 40000\n",
      "        regwi 1, $24, 0;                        //addr = 0\n",
      "        regwi 1, $26, 524349;                   //phrst| stdysel | mode | | outsel = 0b01000 | length = 61 \n",
      "        synci 200;\n",
      "        regwi 0, $15, 0;\n",
      "        regwi 0, $14, 0;\n",
      "LOOP_J: regwi 0, $16, 32768;                    //out = 0b1000000000000000\n",
      "        seti 7, 0, $16, 100;                    //ch =0 out = $16 @t = 0\n",
      "        seti 7, 0, $0, 110;                     //ch =0 out = 0 @t = 0\n",
      "        regwi 1, $27, 0;                        //t = 0\n",
      "        set 1, 1, $22, $23, $24, $25, $26, $27; //ch = 1, pulse @t = $27\n",
      "        regwi 1, $24, 61;                       //addr = 61\n",
      "        regwi 1, $26, 786435;                   //phrst| stdysel | mode | | outsel = 0b01100 | length = 3 \n",
      "        regwi 1, $27, 40;                       //t = 40\n",
      "        set 1, 1, $22, $23, $24, $25, $26, $27; //ch = 1, pulse @t = $27\n",
      "        regwi 1, $24, 64;                       //addr = 64\n",
      "        regwi 1, $26, 524291;                   //phrst| stdysel | mode | | outsel = 0b01000 | length = 3 \n",
      "        waiti 0, 322;\n",
      "        synci 732;\n",
      "        mathi 0, $15, $15 + 1;\n",
      "        memwi 0, $15, 1;\n",
      "        loopnz 0, $14, @LOOP_J;\n",
      "        end ;\n"
     ]
    },
    {
     "data": {
      "application/vnd.jupyter.widget-view+json": {
       "model_id": "64b960bb51004b6394255eb0ee6ba77f",
       "version_major": 2,
       "version_minor": 0
      },
      "text/plain": [
       "  0%|          | 0/1 [00:00<?, ?it/s]"
      ]
     },
     "metadata": {},
     "output_type": "display_data"
    }
   ],
   "source": [
    "config={\"res_ch\":1, # --generator channel number\n",
    "        \"ro_ch\":1, # --readout channel number\n",
    "        \"reps\":1, # --body repetition times\n",
    "        \"relax_delay\":1.0, # --Fixed\n",
    "        \"res_phase\":0, # --DAC phase        \n",
    "        \"readout_length\":300, # [readout fabric Clock ticks]\n",
    "        \"pulse_gain\":40000, # [DAC units]\n",
    "        \"pulse_freq\": 187*2, # [MHz]\n",
    "        \"adc_trig_offset\": 100, # [tproc Clock ticks]\n",
    "        \"soft_avgs\":1,\n",
    "        \"reps\":1,\n",
    "        ### pulse variables\n",
    "        \"rampup_time\":0.1, # unit us\n",
    "        \"const_time\": 1e6# unit us\n",
    "       }\n",
    "\n",
    "prog =LoopbackProgram(soccfg, config)\n",
    "print(prog)\n",
    "(iq0,) = prog.acquire_decimated(soc, progress=True)\n",
    "# (iq0,) = prog.acquire_decimated(soc, progress=True,start_src=\"external\") # use this to start the program with external trigger in PMOD1_0"
   ]
  },
  {
   "cell_type": "code",
   "execution_count": 10,
   "id": "e6e90ab3-a8a0-400d-b844-87016e0c1bd4",
   "metadata": {},
   "outputs": [
    {
     "data": {
      "text/plain": [
       "<matplotlib.legend.Legend at 0xffff87511d80>"
      ]
     },
     "execution_count": 10,
     "metadata": {},
     "output_type": "execute_result"
    },
    {
     "data": {
      "image/png": "[encoded data removed]",
      "text/plain": [
       "<Figure size 432x288 with 1 Axes>"
      ]
     },
     "metadata": {
      "needs_background": "light"
     },
     "output_type": "display_data"
    }
   ],
   "source": [
    "# Plot results.\n",
    "plt.figure(1)\n",
    "plt.plot(iq0[0], label=\"I value; ADC 0\")\n",
    "plt.plot(iq0[1], label=\"Q value; ADC 0\")\n",
    "plt.ylabel(\"a.u.\")\n",
    "plt.xlabel(\"Clock ticks\")\n",
    "plt.title(\"Averages = \" + str(config[\"soft_avgs\"]))\n",
    "plt.legend()\n",
    "# plt.savefig(\"images/Conditional_False_Pulse.pdf\", dpi=350)"
   ]
  },
  {
   "cell_type": "code",
   "execution_count": 51,
   "id": "8a9cab32-4e41-4fbe-968e-5df957814b3e",
   "metadata": {},
   "outputs": [
    {
     "data": {
      "text/plain": [
       "{'type': 'axis_signal_gen_v6',\n",
       " 'fullpath': 'axis_signal_gen_v6_1',\n",
       " 'revision': 4,\n",
       " 'version': '1.0',\n",
       " 'tproc_ch': 1,\n",
       " 'dac': '20',\n",
       " 'has_mixer': False,\n",
       " 'fs': 9830.4,\n",
       " 'fs_mult': 20,\n",
       " 'fs_div': 1,\n",
       " 'interpolation': 1,\n",
       " 'f_fabric': 614.4,\n",
       " 'f_dds': 9830.4,\n",
       " 'fdds_div': 1,\n",
       " 'maxlen': 65536,\n",
       " 'b_dds': 32,\n",
       " 'b_phase': 32,\n",
       " 'switch_ch': 1,\n",
       " 'samps_per_clk': 16,\n",
       " 'maxv': 32766,\n",
       " 'maxv_scale': 1.0}"
      ]
     },
     "execution_count": 51,
     "metadata": {},
     "output_type": "execute_result"
    }
   ],
   "source": [
    "prog.soccfg['gens'][1]"
   ]
  },
  {
   "cell_type": "code",
   "execution_count": 93,
   "id": "d6fae13e-a0d0-457c-9b1a-36c2789fa277",
   "metadata": {},
   "outputs": [
    {
     "data": {
      "text/plain": [
       "2051.875"
      ]
     },
     "execution_count": 93,
     "metadata": {},
     "output_type": "execute_result"
    }
   ],
   "source": [
    "32830/16"
   ]
  },
  {
   "cell_type": "code",
   "execution_count": 172,
   "id": "ac98fc77-6c67-47df-8035-59cd3dc3aa7d",
   "metadata": {},
   "outputs": [
    {
     "data": {
      "text/plain": [
       "array([0.00000000e+00, 6.25390869e-02, 1.25078174e-01, ...,\n",
       "       9.98749218e+01, 9.99374609e+01, 1.00000000e+02])"
      ]
     },
     "execution_count": 172,
     "metadata": {},
     "output_type": "execute_result"
    }
   ],
   "source": [
    "np.linspace(0,100,16*100)"
   ]
  },
  {
   "cell_type": "code",
   "execution_count": 163,
   "id": "09b29d5b-9b6e-4c4f-8f98-70e63ceba3f2",
   "metadata": {},
   "outputs": [
    {
     "data": {
      "text/plain": [
       "68"
      ]
     },
     "execution_count": 163,
     "metadata": {},
     "output_type": "execute_result"
    }
   ],
   "source": [
    "prog.us2cycles(prog.cycles2us(50),ro_ch=1)"
   ]
  },
  {
   "cell_type": "code",
   "execution_count": 165,
   "id": "a4752adf-2583-4658-b90e-53a2ad20c298",
   "metadata": {},
   "outputs": [
    {
     "data": {
      "text/plain": [
       "111"
      ]
     },
     "execution_count": 165,
     "metadata": {},
     "output_type": "execute_result"
    }
   ],
   "source": [
    "prog.us2cycles(0.2,ro_ch=1)"
   ]
  },
  {
   "cell_type": "code",
   "execution_count": 342,
   "id": "b382971a-0721-4f02-9994-4c2ebcd08108",
   "metadata": {},
   "outputs": [
    {
     "data": {
      "text/plain": [
       "\u001b[0;31mInit signature:\u001b[0m \u001b[0mAveragerProgram\u001b[0m\u001b[0;34m(\u001b[0m\u001b[0msoccfg\u001b[0m\u001b[0;34m,\u001b[0m \u001b[0mcfg\u001b[0m\u001b[0;34m)\u001b[0m\u001b[0;34m\u001b[0m\u001b[0;34m\u001b[0m\u001b[0m\n",
       "\u001b[0;31mDocstring:\u001b[0m     \n",
       "AveragerProgram class is an abstract base class for programs which do loops over experiments in hardware.\n",
       "It consists of a template program which takes care of the loop and acquire methods that talk to the processor to stream single shot data in real-time and then reshape and average it appropriately.\n",
       "\n",
       ":param soccfg: This can be either a QickSoc object (if the program is running on the QICK) or a QickCOnfig (if running remotely).\n",
       ":type soccfg: QickConfig\n",
       ":param cfg: Configuration dictionary\n",
       ":type cfg: dict\n",
       "\u001b[0;31mInit docstring:\u001b[0m\n",
       "Constructor for the AveragerProgram, calls make program at the end.\n",
       "For classes that inherit from this, if you want it to do something before the program is made and compiled:\n",
       "either do it before calling this __init__ or put it in the initialize method.\n",
       "\u001b[0;31mFile:\u001b[0m           /home/xilinx/jupyter_notebooks/qick/qick_lib/qick/averager_program.py\n",
       "\u001b[0;31mType:\u001b[0m           ABCMeta\n",
       "\u001b[0;31mSubclasses:\u001b[0m     LoopbackProgram, LoopbackProgram, LoopbackProgram, LoopbackProgram, LoopbackProgram, LoopbackProgram, LoopbackProgram, LoopbackProgram, LoopbackProgram, LoopbackProgram, ...\n"
      ]
     },
     "metadata": {},
     "output_type": "display_data"
    }
   ],
   "source": [
    "?AveragerProgram"
   ]
  },
  {
   "cell_type": "code",
   "execution_count": 201,
   "id": "8a3defdb-5154-4a30-b41d-f8a43202423f",
   "metadata": {},
   "outputs": [
    {
     "name": "stdout",
     "output_type": "stream",
     "text": [
      "<qick.asm_v1.QickRegister object at 0xffff5c8c1a80>\n"
     ]
    }
   ],
   "source": [
    "asm_v1.QickRegister(prog,0,1)"
   ]
  },
  {
   "cell_type": "code",
   "execution_count": 57,
   "id": "66a5a6bb-2f6e-4772-86ca-d07323567390",
   "metadata": {},
   "outputs": [],
   "source": [
    "prog_test = QickProgram(soccfg)"
   ]
  },
  {
   "cell_type": "code",
   "execution_count": 60,
   "id": "c3adb0e9-2aa5-40dc-be7f-61a34c5d3690",
   "metadata": {},
   "outputs": [
    {
     "data": {
      "text/plain": [
       "\u001b[0;31mSignature:\u001b[0m \u001b[0mprog_test\u001b[0m\u001b[0;34m.\u001b[0m\u001b[0mload_prog\u001b[0m\u001b[0;34m(\u001b[0m\u001b[0mprogdict\u001b[0m\u001b[0;34m)\u001b[0m\u001b[0;34m\u001b[0m\u001b[0;34m\u001b[0m\u001b[0m\n",
       "\u001b[0;31mDocstring:\u001b[0m Load the program from a dictionary.\n",
       "\u001b[0;31mFile:\u001b[0m      /home/xilinx/jupyter_notebooks/qick/qick_lib/qick/qick_asm.py\n",
       "\u001b[0;31mType:\u001b[0m      method\n"
      ]
     },
     "metadata": {},
     "output_type": "display_data"
    }
   ],
   "source": [
    "?prog_test.load_prog"
   ]
  },
  {
   "cell_type": "code",
   "execution_count": 5,
   "id": "bdd11438-6903-4276-bdec-ad8f3b75777e",
   "metadata": {},
   "outputs": [
    {
     "name": "stdout",
     "output_type": "stream",
     "text": [
      "Selected Jupyter core packages...\n",
      "IPython          : 8.4.0\n",
      "ipykernel        : 6.15.1\n",
      "ipywidgets       : 7.7.1\n",
      "jupyter_client   : 7.3.4\n",
      "jupyter_core     : 4.11.1\n",
      "jupyter_server   : 1.18.1\n",
      "jupyterlab       : 3.4.4\n",
      "nbclient         : 0.5.13\n",
      "nbconvert        : 6.5.0\n",
      "nbformat         : 5.4.0\n",
      "notebook         : 6.4.12\n",
      "qtconsole        : 5.3.1\n",
      "traitlets        : 5.3.0\n"
     ]
    }
   ],
   "source": [
    "!jupyter --version"
   ]
  },
  {
   "cell_type": "code",
   "execution_count": 24,
   "id": "d95a9960-e91a-4a80-a517-b3507b173dbe",
   "metadata": {},
   "outputs": [
    {
     "name": "stdout",
     "output_type": "stream",
     "text": [
      "Result =  0\n"
     ]
    }
   ],
   "source": [
    "result = soc.tproc.single_read(addr=123)\n",
    "print(\"Result = \", result)"
   ]
  },
  {
   "cell_type": "code",
   "execution_count": null,
   "id": "c6dd8ac3-9b93-455a-8335-aa0e97aed7e0",
   "metadata": {},
   "outputs": [],
   "source": []
  }
 ],
 "metadata": {
  "kernelspec": {
   "display_name": "Python 3 (ipykernel)",
   "language": "python",
   "name": "python3"
  },
  "language_info": {
   "codemirror_mode": {
    "name": "ipython",
    "version": 3
   },
   "file_extension": ".py",
   "mimetype": "text/x-python",
   "name": "python",
   "nbconvert_exporter": "python",
   "pygments_lexer": "ipython3",
   "version": "3.10.4"
  }
 },
 "nbformat": 4,
 "nbformat_minor": 5
}
