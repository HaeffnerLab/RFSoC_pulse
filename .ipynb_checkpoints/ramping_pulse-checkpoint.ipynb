{
 "cells": [
  {
   "cell_type": "code",
   "execution_count": 388,
   "id": "c9841b61-4278-41cb-8f3d-11a0b020a7c9",
   "metadata": {},
   "outputs": [
    {
     "name": "stdout",
     "output_type": "stream",
     "text": [
      "%pylab is deprecated, use %matplotlib inline and import the required libraries.\n",
      "Populating the interactive namespace from numpy and matplotlib\n"
     ]
    }
   ],
   "source": [
    "# Import the QICK drivers and auxiliary libraries\n",
    "from qick import *\n",
    "%pylab inline"
   ]
  },
  {
   "cell_type": "code",
   "execution_count": 389,
   "id": "2c05c62c-f222-4866-8b3a-f46f53c6622a",
   "metadata": {},
   "outputs": [
    {
     "name": "stdout",
     "output_type": "stream",
     "text": [
      "QICK running on RFSoC4x2, software version 0.2.340\n",
      "\n",
      "Firmware configuration (built Wed Sep  6 18:49:29 2023):\n",
      "\n",
      "\tGlobal clocks (MHz): tProc dispatcher timing 409.600, RF reference 491.520\n",
      "\tGroups of related clocks: [tProc clock, DAC tile 0], [DAC tile 2], [ADC tile 0]\n",
      "\n",
      "\t2 signal generator channels:\n",
      "\t0:\taxis_signal_gen_v6 - envelope memory 65536 samples (6.667 us)\n",
      "\t\tfs=9830.400 Msps, fabric=614.400 MHz, 32-bit DDS, range=9830.400 MHz\n",
      "\t\tDAC tile 0, blk 0 is DAC_B\n",
      "\t1:\taxis_signal_gen_v6 - envelope memory 65536 samples (6.667 us)\n",
      "\t\tfs=9830.400 Msps, fabric=614.400 MHz, 32-bit DDS, range=9830.400 MHz\n",
      "\t\tDAC tile 2, blk 0 is DAC_A\n",
      "\n",
      "\t2 readout channels:\n",
      "\t0:\taxis_readout_v2 - configured by PYNQ\n",
      "\t\tfs=4423.680 Msps, decimated=552.960 MHz, 32-bit DDS, range=4423.680 MHz\n",
      "\t\taxis_avg_buffer v1.0 (no edge counter, no weights)\n",
      "\t\tmemory 16384 accumulated, 1024 decimated (1.852 us)\n",
      "\t\ttriggered by output 7, pin 14, feedback to tProc input 0\n",
      "\t\tADC tile 0, blk 0 is ADC_D\n",
      "\t1:\taxis_readout_v2 - configured by PYNQ\n",
      "\t\tfs=4423.680 Msps, decimated=552.960 MHz, 32-bit DDS, range=4423.680 MHz\n",
      "\t\taxis_avg_buffer v1.0 (no edge counter, no weights)\n",
      "\t\tmemory 16384 accumulated, 1024 decimated (1.852 us)\n",
      "\t\ttriggered by output 7, pin 15, feedback to tProc input 1\n",
      "\t\tADC tile 0, blk 2 is ADC_C\n",
      "\n",
      "\t8 digital output pins:\n",
      "\t0:\tPMOD0_0\n",
      "\t1:\tPMOD0_1\n",
      "\t2:\tPMOD0_2\n",
      "\t3:\tPMOD0_3\n",
      "\t4:\tPMOD0_4\n",
      "\t5:\tPMOD0_5\n",
      "\t6:\tPMOD0_6\n",
      "\t7:\tPMOD0_7\n",
      "\n",
      "\ttProc: axis_tproc64x32_x8 (\"v1\") rev 4, program memory 1024 words, data memory 1024 words\n",
      "\t\texternal start pin: PMOD1_0\n",
      "\n",
      "\tDDR4 memory buffer: 1073741824 samples (1.942 sec), 256 samples/transfer\n",
      "\t\twired to readouts [0, 1]\n",
      "\n",
      "\tMR buffer: 8192 samples (1.852 us), wired to readouts [0, 1]\n"
     ]
    }
   ],
   "source": [
    "# Load bitstream with custom overlay\n",
    "soc = QickSoc()\n",
    "soccfg = soc\n",
    "print(soccfg)"
   ]
  },
  {
   "cell_type": "code",
   "execution_count": 390,
   "id": "0cf45596-a2f2-4308-8a6e-e197c328070b",
   "metadata": {},
   "outputs": [],
   "source": [
    "class LoopbackProgram(AveragerProgram):\n",
    "    def initialize(self):\n",
    "        cfg=self.cfg   \n",
    "\n",
    "        # set the nyquist zone\n",
    "        self.declare_gen(ch=cfg[\"res_ch\"], nqz=1)\n",
    "\n",
    "        \n",
    "        \n",
    "        #configure the readout lengths and downconversion frequencies\n",
    "        self.declare_readout(ch=cfg[\"ro_ch\"], length=self.cfg[\"readout_length\"],\n",
    "                             freq=self.cfg[\"pulse_freq\"], gen_ch=cfg[\"res_ch\"])\n",
    "\n",
    "        freq=self.freq2reg(cfg[\"pulse_freq\"], gen_ch=cfg[\"res_ch\"], ro_ch=cfg[\"ro_ch\"])  # convert frequency to dac frequency (ensuring it is an available adc frequency)\n",
    "        \n",
    "        # Set waveform\n",
    "        self.add_envelope(ch=cfg[\"res_ch\"], name = cfg[\"pulse_name\"], idata=np.linspace(0,32766,16*60),qdata=zeros(16*60))\n",
    "        # self.add_gauss(ch=cfg[\"res_ch\"], name=\"qubit\", sigma=cfg[\"sigma\"], length=cfg[\"sigma\"]*4)\n",
    "        \n",
    "        self.add_envelope(ch=cfg[\"res_ch\"], name = \"const\", idata=32766*np.ones(16*60),qdata=zeros(16*60))\n",
    "        \n",
    "        self.default_pulse_registers(ch=cfg[\"res_ch\"], style=\"arb\", freq=freq, phase=0, gain=cfg[\"pulse_gain\"])\n",
    "        self.set_pulse_registers(ch=cfg[\"res_ch\"],waveform=cfg[\"pulse_name\"])\n",
    "        \n",
    "        # Set threshold\n",
    "        self.regwi(0,1,self.cfg[\"threshold\"])\n",
    "\n",
    "        # Set value of number \n",
    "        self.regwi(0,2,self.cfg[\"number\"])\n",
    "        \n",
    "        # Set const pulse number\n",
    "        self.regwi(0,3,cfg[\"const_pulses\"]-1)\n",
    "        \n",
    "        \n",
    "\n",
    "        # self.synci(200)  # give processor some time to configure pulses\n",
    "        self.sync_all(self.us2cycles(500))\n",
    "    \n",
    "    def body(self):\n",
    "        self.trigger(adcs=[self.cfg[\"ro_ch\"]],adc_trig_offset=self.cfg[\"adc_trig_offset\"])  # trigger the adc acquisition\n",
    "        \n",
    "        # Apply conditional logic statement: When number is smaller than threshold, skip over playing the pulse.\n",
    "        self.condj(0,2,'<',1,'LABEL') \n",
    "        self.pulse(ch=self.cfg[\"res_ch\"]) # play readout pulse\n",
    "        self.set_pulse_registers(ch=self.cfg[\"res_ch\"],waveform=\"const\")\n",
    "        self.label('LOOP_CONST')\n",
    "        self.pulse(ch=self.cfg[\"res_ch\"]) \n",
    "        # self.mathi(0, 3, 3, '-', 1)\n",
    "        # self.condj(0, 3, '>=', 4, 'LOOP_CONST')\n",
    "        self.loopnz(0,3,'LOOP_CONST')\n",
    "        self.label('LABEL')\n",
    "        # self.pulse(ch=self.cfg[\"res_ch\"]) \n",
    "        # control should wait until the readout is over\n",
    "        self.wait_all() \n",
    "\n",
    "        self.sync_all(self.us2cycles(self.cfg[\"relax_delay\"]))  # sync all channels"
   ]
  },
  {
   "cell_type": "code",
   "execution_count": null,
   "id": "c4f40d7b-51a2-402f-b6c3-71740b2ac6fd",
   "metadata": {},
   "outputs": [
    {
     "name": "stdout",
     "output_type": "stream",
     "text": [
      "\n",
      "// Program\n",
      "\n",
      "            regwi 1, $22, 873813330;            //freq = 873813330\n",
      "            regwi 1, $23, 0;                    //phase = 0\n",
      "            regwi 1, $25, 3000;                 //gain = 3000\n",
      "            regwi 1, $24, 0;                    //addr = 0\n",
      "            regwi 1, $26, 524348;               //phrst| stdysel | mode | | outsel = 0b01000 | length = 60 \n",
      "            regwi 0, $1, 50;\n",
      "            regwi 0, $2, 100;\n",
      "            regwi 0, $3, 4;\n",
      "            synci 204800;\n",
      "            regwi 0, $15, 0;\n",
      "            regwi 0, $14, 0;\n",
      "LOOP_J:     regwi 0, $16, 32768;                //out = 0b1000000000000000\n",
      "            seti 7, 0, $16, 110;                //ch =0 out = $16 @t = 0\n",
      "            seti 7, 0, $0, 120;                 //ch =0 out = 0 @t = 0\n",
      "            condj 0, $2, <, $1, @LABEL;\n",
      "            regwi 1, $27, 0;                    //t = 0\n",
      "            set 1, 1, $22, $23, $24, $25, $26, $27;//ch = 1, pulse @t = $27\n",
      "            regwi 1, $24, 60;                   //addr = 60\n",
      "            regwi 1, $26, 524348;               //phrst| stdysel | mode | | outsel = 0b01000 | length = 60 \n",
      "LOOP_CONST: regwi 1, $27, 40;                   //t = 40\n",
      "            set 1, 1, $22, $23, $24, $25, $26, $27;//ch = 1, pulse @t = $27\n",
      "            mathi 0, $3, $3 - 1;\n",
      "            loopnz 0, $3, @LOOP_CONST;\n",
      "LABEL:      waiti 0, 258;\n",
      "            synci 668;\n",
      "            mathi 0, $15, $15 + 1;\n",
      "            memwi 0, $15, 1;\n",
      "            loopnz 0, $14, @LOOP_J;\n",
      "            end ;\n"
     ]
    },
    {
     "data": {
      "application/vnd.jupyter.widget-view+json": {
       "model_id": "6e7abcd809b04197b9159bc514718e4e",
       "version_major": 2,
       "version_minor": 0
      },
      "text/plain": [
       "  0%|          | 0/1000 [00:00<?, ?it/s]"
      ]
     },
     "metadata": {},
     "output_type": "display_data"
    }
   ],
   "source": [
    "config={\"res_ch\":1, # --Fixed\n",
    "        \"ro_ch\":1, # --Fixed\n",
    "        \"reps\":1, # --Fixed\n",
    "        \"relax_delay\":1.0, # --Fixed\n",
    "        \"res_phase\":0, # --Fixed\n",
    "        \"length\":50, # [Clock ticks]        \n",
    "        \"readout_length\":200, # [Clock ticks]\n",
    "        \"pulse_gain\":3000, # [DAC units]\n",
    "        \"pulse_freq\": 2000, # [MHz]\n",
    "        \"adc_trig_offset\": 110, # [Clock ticks]\n",
    "        \"soft_avgs\":1000,\n",
    "        ### New variables\n",
    "        \"number\": 100,\n",
    "        \"threshold\": 50,\n",
    "        \"pulse_name\": \"ramping_up\",\n",
    "        \"sigma\":1,\n",
    "        \"const_pulses\":5\n",
    "       }\n",
    "\n",
    "prog =LoopbackProgram(soccfg, config)\n",
    "print(prog)\n",
    "(iq0,) = prog.acquire_decimated(soc, progress=True)"
   ]
  },
  {
   "cell_type": "code",
   "execution_count": null,
   "id": "e6e90ab3-a8a0-400d-b844-87016e0c1bd4",
   "metadata": {},
   "outputs": [],
   "source": [
    "# Plot results.\n",
    "plt.figure(1)\n",
    "plt.plot(iq0[0].flatten(), label=\"I value; ADC 0\")\n",
    "plt.plot(iq0[1].flatten(), label=\"Q value; ADC 0\")\n",
    "plt.ylabel(\"a.u.\")\n",
    "plt.xlabel(\"Clock ticks\")\n",
    "plt.title(\"Averages = \" + str(config[\"soft_avgs\"]))\n",
    "plt.legend()\n",
    "# plt.savefig(\"images/Conditional_False_Pulse.pdf\", dpi=350)"
   ]
  },
  {
   "cell_type": "code",
   "execution_count": 25,
   "id": "1535d66c-cfc4-4e59-9f89-f4024b30576f",
   "metadata": {},
   "outputs": [
    {
     "data": {
      "text/plain": [
       "\u001b[0;31mDocstring:\u001b[0m\n",
       "arange([start,] stop[, step,], dtype=None, *, like=None)\n",
       "\n",
       "Return evenly spaced values within a given interval.\n",
       "\n",
       "Values are generated within the half-open interval ``[start, stop)``\n",
       "(in other words, the interval including `start` but excluding `stop`).\n",
       "For integer arguments the function is equivalent to the Python built-in\n",
       "`range` function, but returns an ndarray rather than a list.\n",
       "\n",
       "When using a non-integer step, such as 0.1, the results will often not\n",
       "be consistent.  It is better to use `numpy.linspace` for these cases.\n",
       "\n",
       "Parameters\n",
       "----------\n",
       "start : integer or real, optional\n",
       "    Start of interval.  The interval includes this value.  The default\n",
       "    start value is 0.\n",
       "stop : integer or real\n",
       "    End of interval.  The interval does not include this value, except\n",
       "    in some cases where `step` is not an integer and floating point\n",
       "    round-off affects the length of `out`.\n",
       "step : integer or real, optional\n",
       "    Spacing between values.  For any output `out`, this is the distance\n",
       "    between two adjacent values, ``out[i+1] - out[i]``.  The default\n",
       "    step size is 1.  If `step` is specified as a position argument,\n",
       "    `start` must also be given.\n",
       "dtype : dtype\n",
       "    The type of the output array.  If `dtype` is not given, infer the data\n",
       "    type from the other input arguments.\n",
       "like : array_like\n",
       "    Reference object to allow the creation of arrays which are not\n",
       "    NumPy arrays. If an array-like passed in as ``like`` supports\n",
       "    the ``__array_function__`` protocol, the result will be defined\n",
       "    by it. In this case, it ensures the creation of an array object\n",
       "    compatible with that passed in via this argument.\n",
       "\n",
       "    .. versionadded:: 1.20.0\n",
       "\n",
       "Returns\n",
       "-------\n",
       "arange : ndarray\n",
       "    Array of evenly spaced values.\n",
       "\n",
       "    For floating point arguments, the length of the result is\n",
       "    ``ceil((stop - start)/step)``.  Because of floating point overflow,\n",
       "    this rule may result in the last element of `out` being greater\n",
       "    than `stop`.\n",
       "\n",
       "See Also\n",
       "--------\n",
       "numpy.linspace : Evenly spaced numbers with careful handling of endpoints.\n",
       "numpy.ogrid: Arrays of evenly spaced numbers in N-dimensions.\n",
       "numpy.mgrid: Grid-shaped arrays of evenly spaced numbers in N-dimensions.\n",
       "\n",
       "Examples\n",
       "--------\n",
       ">>> np.arange(3)\n",
       "array([0, 1, 2])\n",
       ">>> np.arange(3.0)\n",
       "array([ 0.,  1.,  2.])\n",
       ">>> np.arange(3,7)\n",
       "array([3, 4, 5, 6])\n",
       ">>> np.arange(3,7,2)\n",
       "array([3, 5])\n",
       "\u001b[0;31mType:\u001b[0m      builtin_function_or_method\n"
      ]
     },
     "metadata": {},
     "output_type": "display_data"
    }
   ],
   "source": [
    "?np.arange"
   ]
  },
  {
   "cell_type": "code",
   "execution_count": 381,
   "id": "d6fae13e-a0d0-457c-9b1a-36c2789fa277",
   "metadata": {},
   "outputs": [
    {
     "data": {
      "text/plain": [
       "\u001b[0;31mSignature:\u001b[0m \u001b[0mprog\u001b[0m\u001b[0;34m.\u001b[0m\u001b[0mloopnz\u001b[0m\u001b[0;34m(\u001b[0m\u001b[0;34m*\u001b[0m\u001b[0margs\u001b[0m\u001b[0;34m)\u001b[0m\u001b[0;34m\u001b[0m\u001b[0;34m\u001b[0m\u001b[0m\n",
       "\u001b[0;31mDocstring:\u001b[0m <no docstring>\n",
       "\u001b[0;31mFile:\u001b[0m      /home/xilinx/jupyter_notebooks/qick/qick_lib/qick/asm_v1.py\n",
       "\u001b[0;31mType:\u001b[0m      function\n"
      ]
     },
     "metadata": {},
     "output_type": "display_data"
    }
   ],
   "source": [
    "?prog.loopnz"
   ]
  },
  {
   "cell_type": "code",
   "execution_count": 172,
   "id": "ac98fc77-6c67-47df-8035-59cd3dc3aa7d",
   "metadata": {},
   "outputs": [
    {
     "data": {
      "text/plain": [
       "array([0.00000000e+00, 6.25390869e-02, 1.25078174e-01, ...,\n",
       "       9.98749218e+01, 9.99374609e+01, 1.00000000e+02])"
      ]
     },
     "execution_count": 172,
     "metadata": {},
     "output_type": "execute_result"
    }
   ],
   "source": [
    "np.linspace(0,100,16*100)"
   ]
  },
  {
   "cell_type": "code",
   "execution_count": 189,
   "id": "09b29d5b-9b6e-4c4f-8f98-70e63ceba3f2",
   "metadata": {},
   "outputs": [
    {
     "data": {
      "text/plain": [
       "0.00244140625"
      ]
     },
     "execution_count": 189,
     "metadata": {},
     "output_type": "execute_result"
    }
   ],
   "source": [
    "prog.cycles2us(1)"
   ]
  },
  {
   "cell_type": "code",
   "execution_count": 262,
   "id": "a4752adf-2583-4658-b90e-53a2ad20c298",
   "metadata": {},
   "outputs": [
    {
     "data": {
      "text/plain": [
       "65536"
      ]
     },
     "execution_count": 262,
     "metadata": {},
     "output_type": "execute_result"
    }
   ],
   "source": [
    "2**16"
   ]
  },
  {
   "cell_type": "code",
   "execution_count": 342,
   "id": "b382971a-0721-4f02-9994-4c2ebcd08108",
   "metadata": {},
   "outputs": [
    {
     "data": {
      "text/plain": [
       "\u001b[0;31mInit signature:\u001b[0m \u001b[0mAveragerProgram\u001b[0m\u001b[0;34m(\u001b[0m\u001b[0msoccfg\u001b[0m\u001b[0;34m,\u001b[0m \u001b[0mcfg\u001b[0m\u001b[0;34m)\u001b[0m\u001b[0;34m\u001b[0m\u001b[0;34m\u001b[0m\u001b[0m\n",
       "\u001b[0;31mDocstring:\u001b[0m     \n",
       "AveragerProgram class is an abstract base class for programs which do loops over experiments in hardware.\n",
       "It consists of a template program which takes care of the loop and acquire methods that talk to the processor to stream single shot data in real-time and then reshape and average it appropriately.\n",
       "\n",
       ":param soccfg: This can be either a QickSoc object (if the program is running on the QICK) or a QickCOnfig (if running remotely).\n",
       ":type soccfg: QickConfig\n",
       ":param cfg: Configuration dictionary\n",
       ":type cfg: dict\n",
       "\u001b[0;31mInit docstring:\u001b[0m\n",
       "Constructor for the AveragerProgram, calls make program at the end.\n",
       "For classes that inherit from this, if you want it to do something before the program is made and compiled:\n",
       "either do it before calling this __init__ or put it in the initialize method.\n",
       "\u001b[0;31mFile:\u001b[0m           /home/xilinx/jupyter_notebooks/qick/qick_lib/qick/averager_program.py\n",
       "\u001b[0;31mType:\u001b[0m           ABCMeta\n",
       "\u001b[0;31mSubclasses:\u001b[0m     LoopbackProgram, LoopbackProgram, LoopbackProgram, LoopbackProgram, LoopbackProgram, LoopbackProgram, LoopbackProgram, LoopbackProgram, LoopbackProgram, LoopbackProgram, ...\n"
      ]
     },
     "metadata": {},
     "output_type": "display_data"
    }
   ],
   "source": [
    "?AveragerProgram"
   ]
  },
  {
   "cell_type": "code",
   "execution_count": null,
   "id": "8a3defdb-5154-4a30-b41d-f8a43202423f",
   "metadata": {},
   "outputs": [],
   "source": []
  }
 ],
 "metadata": {
  "kernelspec": {
   "display_name": "Python 3 (ipykernel)",
   "language": "python",
   "name": "python3"
  },
  "language_info": {
   "codemirror_mode": {
    "name": "ipython",
    "version": 3
   },
   "file_extension": ".py",
   "mimetype": "text/x-python",
   "name": "python",
   "nbconvert_exporter": "python",
   "pygments_lexer": "ipython3",
   "version": "3.10.4"
  }
 },
 "nbformat": 4,
 "nbformat_minor": 5
}
